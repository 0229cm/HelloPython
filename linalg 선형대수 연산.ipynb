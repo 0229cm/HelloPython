{
 "cells": [
  {
   "cell_type": "code",
   "execution_count": 1,
   "metadata": {},
   "outputs": [],
   "source": [
    "import numpy as np"
   ]
  },
  {
   "cell_type": "markdown",
   "metadata": {},
   "source": [
    "#### np.linalg.inv\n",
    " - 역행렬을 구할 때 사용\n",
    " - 모든 차원의 값이 같아야 함"
   ]
  },
  {
   "cell_type": "code",
   "execution_count": 2,
   "metadata": {},
   "outputs": [
    {
     "name": "stdout",
     "output_type": "stream",
     "text": [
      "[[[0.06350375 0.06937585 0.66206769]\n",
      "  [0.43149987 0.56904671 0.48370316]\n",
      "  [0.04273823 0.49656376 0.04025444]]\n",
      "\n",
      " [[0.44007468 0.87712096 0.83660416]\n",
      "  [0.61634181 0.32303642 0.07533095]\n",
      "  [0.56464537 0.13379307 0.94229124]]\n",
      "\n",
      " [[0.06582023 0.93360946 0.67589532]\n",
      "  [0.69719187 0.93547094 0.94510344]\n",
      "  [0.72631106 0.56341525 0.41888865]]]\n"
     ]
    },
    {
     "data": {
      "text/plain": [
       "array([[[ 1.00000000e+00, -2.66332875e-17,  2.43702810e-17],\n",
       "        [ 4.77964133e-17,  1.00000000e+00,  7.18268844e-17],\n",
       "        [ 2.76154793e-18, -1.19176826e-18,  1.00000000e+00]],\n",
       "\n",
       "       [[ 1.00000000e+00, -8.04024734e-17, -4.94455840e-17],\n",
       "        [-1.06735376e-17,  1.00000000e+00, -2.29234412e-17],\n",
       "        [ 4.86936461e-17, -2.81319943e-16,  1.00000000e+00]],\n",
       "\n",
       "       [[ 1.00000000e+00, -6.16406370e-16,  9.63788461e-17],\n",
       "        [-1.83789955e-16,  1.00000000e+00, -2.64611812e-16],\n",
       "        [ 1.12268559e-16, -2.93122483e-17,  1.00000000e+00]]])"
      ]
     },
     "execution_count": 2,
     "metadata": {},
     "output_type": "execute_result"
    }
   ],
   "source": [
    "x = np.random.rand(3, 3, 3)\n",
    "print(x)\n",
    "\n",
    "np.matmul(x, np.linalg.inv(x))\n",
    "x @ np.linalg.inv(x)"
   ]
  },
  {
   "cell_type": "markdown",
   "metadata": {},
   "source": [
    "#### np.linalg.solve\n",
    " - Ax = B 형태의 선형대수식 솔루션을 제공\n",
    " - 예제) 호랑이와 홍합의 합 : 25 호랑이 다리와 홍합 다리의 합은 64\n",
    "   - x + y = 25\n",
    "   - 2x + 4y = 64\n",
    "   \n",
    " $$\\begin{pmatrix} 1 & 1 \\\\ 2 & 4 \\end{pmatrix}\\begin{pmatrix} x \\\\ y \\end{pmatrix}= \\begin{pmatrix} 25 \\\\ 64 \\end{pmatrix}$$\n"
   ]
  },
  {
   "cell_type": "code",
   "execution_count": 3,
   "metadata": {},
   "outputs": [
    {
     "name": "stdout",
     "output_type": "stream",
     "text": [
      "[18.  7.]\n"
     ]
    },
    {
     "data": {
      "text/plain": [
       "True"
      ]
     },
     "execution_count": 3,
     "metadata": {},
     "output_type": "execute_result"
    }
   ],
   "source": [
    "A = np.array([[1, 1], [2, 4]])\n",
    "B = np.array([25, 64])\n",
    "\n",
    "x = np.linalg.solve(A, B)\n",
    "print(x)\n",
    "\n",
    "np.allclose(A@x, B)"
   ]
  },
  {
   "cell_type": "code",
   "execution_count": null,
   "metadata": {},
   "outputs": [],
   "source": []
  },
  {
   "cell_type": "code",
   "execution_count": null,
   "metadata": {},
   "outputs": [],
   "source": []
  },
  {
   "cell_type": "code",
   "execution_count": null,
   "metadata": {},
   "outputs": [],
   "source": []
  }
 ],
 "metadata": {
  "kernelspec": {
   "display_name": "Python 3",
   "language": "python",
   "name": "python3"
  },
  "language_info": {
   "codemirror_mode": {
    "name": "ipython",
    "version": 3
   },
   "file_extension": ".py",
   "mimetype": "text/x-python",
   "name": "python",
   "nbconvert_exporter": "python",
   "pygments_lexer": "ipython3",
   "version": "3.6.12"
  }
 },
 "nbformat": 4,
 "nbformat_minor": 4
}
