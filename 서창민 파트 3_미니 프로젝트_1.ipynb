{
 "cells": [
  {
   "cell_type": "markdown",
   "metadata": {
    "colab_type": "text",
    "id": "_2b0e2uNmjKi"
   },
   "source": [
    " #  Byte degree 미니 프로젝트\n",
    " ## Daum 영화 제목 및 댓글 크롤링"
   ]
  },
  {
   "cell_type": "markdown",
   "metadata": {
    "colab_type": "text",
    "id": "r_YZN17smjKl"
   },
   "source": [
    "### 문제\n",
    "    - https://movie.daum.net 에 접속하여 본인이 좋아하는 영화를 선택합니다.\n",
    "    (1) 메인 Tab에서 영화 제목을 크롤링 합니다.\n",
    "    (2) 평점 Tab에서 영화 댓글을 크롤링 합니다.\n",
    "\n",
    "### 조건 \n",
    "    (1) 각 크롤링은 함수을 만들어 호출하는 형태로 작성한합니다. (영화 제목과 댓글 총 2개의 함수가 만들어져야 함)\n",
    "    (2) 영화 제목 크롤링 함수는 인자값으로 영화 ID를, 댓글 크롤링 함수는 인자값으로 영화 ID와 최대 page 수를 받을 수 있어야 합니다. \n",
    "    (3) 댓글 크롤링 후 최종 결과는 댓글의 Value 만 크롤링 되어야 하며 불필요한 HTML 테그가 결과에 포함되어서는 안됩니다.\n",
    "    (4) 만약 댓글의 전체 page 수가 함수에 인자로 지정한 최대 page 수 보다 적게 존재하는 경우는 이를 체크하여 크롤링을 멈춥니다. \n",
    "        (e.g. 함수 인자에 최대 크롤링 page를 100으로 지정했다 하더라도 실제 크롤링 대상 page가 10개만 존재한다면 크롤링 멈춤)\n",
    "    (5) 모든 작성은 jupyter notebook에서 하며 수행 결과를 포함시켜 ipynb 확장자 파일로 제출합니다.\n",
    "\n",
    "### 추가 hint\n",
    "    (1) 영화의 댓글은 get 방식으로 page 별로 호출 할 수 있습니다. (page는 1부터 시작)\n",
    "    (2) BeautifulSoap의 find_all을 활용하면 리스트로 반환된 결과를 len 함수를 통해 개수를 확인할 수 있습니다."
   ]
  },
  {
   "cell_type": "code",
   "execution_count": 1,
   "metadata": {
    "colab": {},
    "colab_type": "code",
    "id": "jmIyOntImjKm"
   },
   "outputs": [],
   "source": [
    "import requests\n",
    "from bs4 import BeautifulSoup"
   ]
  },
  {
   "cell_type": "markdown",
   "metadata": {
    "colab_type": "text",
    "id": "E-7jAFqwmjKr"
   },
   "source": [
    "### 영화 메인 정보 크롤링 함수 (메인 Tab)"
   ]
  },
  {
   "cell_type": "code",
   "execution_count": 38,
   "metadata": {
    "colab": {},
    "colab_type": "code",
    "id": "mauSOWmnmjKs"
   },
   "outputs": [],
   "source": [
    "def get_daum_movie_title(movie_id):   # 체크 : movie_id를 받을 수 있어야 함\n",
    "    url = 'https://movie.daum.net/moviedb/main?movieId={}'.format(movie_id)\n",
    "    resp = requests.get(url)\n",
    "     \n",
    "    soup = BeautifulSoup(resp.text)\n",
    "     \n",
    "    title = soup.select_one('strong.tit_movie')\n",
    "     \n",
    "    if title:\n",
    "        return title.get_text()\n",
    "    return ''"
   ]
  },
  {
   "cell_type": "code",
   "execution_count": 39,
   "metadata": {
    "colab": {},
    "colab_type": "code",
    "id": "TkPZWwupmjKv"
   },
   "outputs": [
    {
     "data": {
      "text/plain": [
       "'\\n남과 여: 여전히 찬란한(2019)\\n\\n상영중\\n\\n'"
      ]
     },
     "execution_count": 39,
     "metadata": {},
     "output_type": "execute_result"
    }
   ],
   "source": [
    "# 영화 메인 제목 크롤링 함수 호출\n",
    "get_daum_movie_title('131559')"
   ]
  },
  {
   "cell_type": "code",
   "execution_count": 40,
   "metadata": {
    "colab": {},
    "colab_type": "code",
    "id": "gIAGHIo2mjKy"
   },
   "outputs": [
    {
     "name": "stdout",
     "output_type": "stream",
     "text": [
      "\n",
      "남과 여: 여전히 찬란한(2019)\n",
      "\n",
      "상영중\n",
      "\n",
      "\n"
     ]
    }
   ],
   "source": [
    "## 크롤링 결과 확인\n",
    "print(get_daum_movie_title('131559'))\n",
    "\n",
    "\n"
   ]
  },
  {
   "cell_type": "markdown",
   "metadata": {
    "colab_type": "text",
    "id": "Xu-f-VsWmjK0"
   },
   "source": [
    "### 영화 댓글 크롤링 함수 (평점 Tab)"
   ]
  },
  {
   "cell_type": "code",
   "execution_count": 42,
   "metadata": {
    "colab": {},
    "colab_type": "code",
    "id": "ghpKjmmgmjK1"
   },
   "outputs": [],
   "source": [
    "## 영화 댓글 클롤링 함수\n",
    "def mc(pages):\n",
    "    url = 'https://movie.daum.net/moviedb/grade?movieId=131559'.format(pages)\n",
    "    resp = requests.get(url)\n",
    " \n",
    "    soup =  BeautifulSoup(resp.text)\n",
    " \n",
    "    comments = soup.find_all('p', {'class' : 'desc_review'})\n",
    "    review = ''\n",
    "    \n",
    "    for i in comments:\n",
    "        print(i.get_text().strip())"
   ]
  },
  {
   "cell_type": "code",
   "execution_count": 43,
   "metadata": {
    "colab": {},
    "colab_type": "code",
    "id": "Mhaa1vz_mjK5",
    "scrolled": false
   },
   "outputs": [
    {
     "name": "stdout",
     "output_type": "stream",
     "text": [
      ".\n",
      "노래가 전부 좋았어요\n",
      " 한국 영화 69세와는 전혀 다른...\n",
      "진심으로 감성적인  인생의 사랑이야기!!   정말 감각적이라고 생각해요 ㅠㅠ\n",
      "감성이 촉촉해 진다.\n",
      "보고 싶어요\n",
      "가을에 보면 좋은 감성 멜로드라마입니다.\n"
     ]
    }
   ],
   "source": [
    "mc(1)\n",
    "\n",
    "\n"
   ]
  }
 ],
 "metadata": {
  "colab": {
   "name": "(수강생 배포용) 파트 3_미니 프로젝트_1.ipynb",
   "provenance": []
  },
  "kernelspec": {
   "display_name": "Python 3",
   "language": "python",
   "name": "python3"
  },
  "language_info": {
   "codemirror_mode": {
    "name": "ipython",
    "version": 3
   },
   "file_extension": ".py",
   "mimetype": "text/x-python",
   "name": "python",
   "nbconvert_exporter": "python",
   "pygments_lexer": "ipython3",
   "version": "3.7.4"
  }
 },
 "nbformat": 4,
 "nbformat_minor": 1
}
